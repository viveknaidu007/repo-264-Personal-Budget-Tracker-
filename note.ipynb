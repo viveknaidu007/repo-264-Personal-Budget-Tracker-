{
 "cells": [
  {
   "cell_type": "markdown",
   "id": "fc5b1436",
   "metadata": {},
   "source": [
    "# backend"
   ]
  },
  {
   "cell_type": "code",
   "execution_count": null,
   "id": "2ad232a4",
   "metadata": {
    "vscode": {
     "languageId": "plaintext"
    }
   },
   "outputs": [],
   "source": [
    "branch : version 3"
   ]
  },
  {
   "cell_type": "code",
   "execution_count": null,
   "id": "3d4b4361",
   "metadata": {
    "vscode": {
     "languageId": "plaintext"
    }
   },
   "outputs": [],
   "source": [
    "django-admin startproject budget_tracker\n",
    "cd budget_tracker\n",
    "python manage.py startapp transactions"
   ]
  },
  {
   "cell_type": "code",
   "execution_count": null,
   "id": "821ed6c5",
   "metadata": {
    "vscode": {
     "languageId": "plaintext"
    }
   },
   "outputs": [],
   "source": [
    "#budget_tracker/settings.py\n",
    "\n",
    "\n",
    "import os\n",
    "from pathlib import Path\n",
    "from dotenv import load_dotenv\n",
    "\n",
    "load_dotenv()\n",
    "\n",
    "BASE_DIR = Path(__file__).resolve().parent.parent\n",
    "\n",
    "SECRET_KEY = os.getenv(\"SECRET_KEY\")\n",
    "DEBUG = os.getenv(\"DEBUG\", \"False\") == \"True\"\n",
    "ALLOWED_HOSTS = os.getenv(\"ALLOWED_HOSTS\", \"localhost,127.0.0.1\").split(\",\")\n",
    "\n",
    "INSTALLED_APPS = [\n",
    "    'django.contrib.admin',\n",
    "    'django.contrib.auth',\n",
    "    'django.contrib.contenttypes',\n",
    "    'django.contrib.sessions',\n",
    "    'django.contrib.messages',\n",
    "    'django.contrib.staticfiles',\n",
    "    'rest_framework',\n",
    "    'rest_framework.authtoken',\n",
    "    'corsheaders',\n",
    "    'transactions',\n",
    "]\n",
    "\n",
    "MIDDLEWARE = [\n",
    "    'corsheaders.middleware.CorsMiddleware',\n",
    "    'django.middleware.common.CommonMiddleware',\n",
    "    'django.middleware.security.SecurityMiddleware',\n",
    "    'django.contrib.sessions.middleware.SessionMiddleware',\n",
    "    'django.middleware.csrf.CsrfViewMiddleware',\n",
    "    'django.contrib.auth.middleware.AuthenticationMiddleware',\n",
    "    'django.contrib.messages.middleware.MessageMiddleware',\n",
    "    'django.middleware.clickjacking.XFrameOptionsMiddleware',\n",
    "]\n",
    "\n",
    "CORS_ALLOWED_ORIGINS = os.getenv(\"CORS_ALLOWED_ORIGINS\", \"http://localhost:5173\").split(\",\")\n",
    "\n",
    "REST_FRAMEWORK = {\n",
    "    'DEFAULT_AUTHENTICATION_CLASSES': [\n",
    "        'rest_framework.authentication.TokenAuthentication',\n",
    "    ],\n",
    "    'DEFAULT_PERMISSION_CLASSES': [\n",
    "        'rest_framework.permissions.IsAuthenticated',\n",
    "    ],\n",
    "    'DEFAULT_PAGINATION_CLASS': 'rest_framework.pagination.PageNumberPagination',\n",
    "    'PAGE_SIZE': 10\n",
    "}\n",
    "\n",
    "DATABASES = {\n",
    "    'default': {\n",
    "        'ENGINE': 'djongo',\n",
    "        'NAME': 'personalbudget_tracker',\n",
    "        'CLIENT': {\n",
    "            'host': os.getenv(\"MONGO_URI\"),\n",
    "        }\n",
    "    }\n",
    "}\n",
    "\n",
    "TEMPLATES = [\n",
    "    {\n",
    "        'BACKEND': 'django.template.backends.django.DjangoTemplates',\n",
    "        'DIRS': [],\n",
    "        'APP_DIRS': True,\n",
    "        'OPTIONS': {\n",
    "            'context_processors': [\n",
    "                'django.template.context_processors.debug',\n",
    "                'django.template.context_processors.request',\n",
    "                'django.contrib.auth.context_processors.auth',\n",
    "                'django.contrib.messages.context_processors.messages',\n",
    "            ],\n",
    "        },\n",
    "    },\n",
    "]\n",
    "\n",
    "WSGI_APPLICATION = 'budget_tracker.wsgi.application'\n",
    "\n",
    "STATIC_URL = 'static/'"
   ]
  },
  {
   "cell_type": "code",
   "execution_count": null,
   "id": "892b7091",
   "metadata": {
    "vscode": {
     "languageId": "plaintext"
    }
   },
   "outputs": [],
   "source": [
    "#updated:\n",
    "budget_tracker/urls.py\n",
    "transactions/models.py\n",
    "transactions/serializers.py\n",
    "transactions/views.py"
   ]
  },
  {
   "cell_type": "code",
   "execution_count": null,
   "id": "9c77ccc7",
   "metadata": {
    "vscode": {
     "languageId": "plaintext"
    }
   },
   "outputs": [],
   "source": [
    "#apply migrations:\n",
    "\n",
    "python manage.py makemigrations\n",
    "python manage.py migrate"
   ]
  },
  {
   "cell_type": "code",
   "execution_count": null,
   "id": "72c37c6d",
   "metadata": {
    "vscode": {
     "languageId": "plaintext"
    }
   },
   "outputs": [],
   "source": [
    "#Create Superuser (Optional for Testing)\n",
    "\n",
    "python manage.py createsuperuser"
   ]
  },
  {
   "cell_type": "code",
   "execution_count": null,
   "id": "07f8ecd0",
   "metadata": {
    "vscode": {
     "languageId": "plaintext"
    }
   },
   "outputs": [],
   "source": [
    "py manage.py runserver"
   ]
  },
  {
   "cell_type": "markdown",
   "id": "8b6985f9",
   "metadata": {},
   "source": [
    "# frontend:"
   ]
  },
  {
   "cell_type": "code",
   "execution_count": null,
   "id": "dd295d8c",
   "metadata": {
    "vscode": {
     "languageId": "plaintext"
    }
   },
   "outputs": [],
   "source": [
    "# Install Vite with React\n",
    "npm create vite@latest frontend -- --template react\n",
    "cd frontend\n",
    "npm install\n",
    "npm install axios react-router-dom tailwindcss@3.4.17 postcss autoprefixer d3\n",
    "npx tailwindcss init -p\n",
    "     "
   ]
  },
  {
   "cell_type": "code",
   "execution_count": null,
   "id": "76b90155",
   "metadata": {
    "vscode": {
     "languageId": "plaintext"
    }
   },
   "outputs": [],
   "source": [
    "# configure tailwind css : tailwind.config.js\n",
    "\n",
    "/** @type {import('tailwindcss').Config} */\n",
    "export default {\n",
    "  content: [\"./index.html\", \"./src/**/*.{js,ts,jsx,tsx}\"],\n",
    "  theme: {\n",
    "    extend: {},\n",
    "  },\n",
    "  plugins: [],\n",
    "};"
   ]
  },
  {
   "cell_type": "code",
   "execution_count": null,
   "id": "25a6d001",
   "metadata": {
    "vscode": {
     "languageId": "plaintext"
    }
   },
   "outputs": [],
   "source": [
    "#update:\n",
    "frontend/src/index.css\n",
    "\n",
    "@tailwind base;\n",
    "@tailwind components;\n",
    "@tailwind utilities;"
   ]
  },
  {
   "cell_type": "code",
   "execution_count": null,
   "id": "75b66a6d",
   "metadata": {
    "vscode": {
     "languageId": "plaintext"
    }
   },
   "outputs": [],
   "source": [
    "#updated\n",
    "\n",
    "src/App.jsx\n",
    "src/main.jsx"
   ]
  },
  {
   "cell_type": "code",
   "execution_count": null,
   "id": "1b3baa89",
   "metadata": {
    "vscode": {
     "languageId": "plaintext"
    }
   },
   "outputs": [],
   "source": [
    "src/components/Login.jsx"
   ]
  },
  {
   "cell_type": "markdown",
   "id": "cca20853",
   "metadata": {},
   "source": [
    "# Setup\n"
   ]
  },
  {
   "cell_type": "markdown",
   "id": "222b2ab4",
   "metadata": {},
   "source": [
    "Backend\n",
    "cd backend\n",
    "pip install -r requirements.txt\n",
    "Create backend/.env\n",
    "python manage.py makemigrations\n",
    "python manage.py migrate\n",
    "python manage.py runserver 0.0.0.0:5000\n",
    "\n",
    "\n",
    "Frontend\n",
    "cd frontend\n",
    "npm install\n",
    "Create frontend/.env\n",
    "npm run dev"
   ]
  },
  {
   "cell_type": "markdown",
   "id": "1aee4e84",
   "metadata": {},
   "source": [
    "# Deployment"
   ]
  },
  {
   "cell_type": "code",
   "execution_count": null,
   "id": "7c6b84eb",
   "metadata": {
    "vscode": {
     "languageId": "plaintext"
    }
   },
   "outputs": [],
   "source": [
    "Backend (Render)\n",
    "Push to GitHub (version3 branch).\n",
    "Deploy on Render:\n",
    "Build: pip install -r requirements.txt && python manage.py migrate\n",
    "Start: gunicorn budget_tracker.wsgi --bind 0.0.0.0:5000\n",
    "Set environment variables in Render dashboard.\n",
    "API Page: https://budget-tracker-backend.onrender.com/api/\n",
    "\n",
    "\n",
    "Frontend (Vercel)\n",
    "Deploy on Vercel (select frontend/, version3 branch).\n",
    "Set VITE_BACKEND_URL in Vercel dashboard.\n",
    "Hosted Site: https://budget-tracker-frontend.vercel.app"
   ]
  }
 ],
 "metadata": {
  "language_info": {
   "name": "python"
  }
 },
 "nbformat": 4,
 "nbformat_minor": 5
}
