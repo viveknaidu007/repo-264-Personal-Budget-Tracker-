{
 "cells": [
  {
   "cell_type": "markdown",
   "metadata": {},
   "source": [
    "# backend"
   ]
  },
  {
   "cell_type": "code",
   "execution_count": null,
   "metadata": {
    "vscode": {
     "languageId": "plaintext"
    }
   },
   "outputs": [],
   "source": [
    "# Install Python dependencies\n",
    "pip install django djangorestframework django-cors-headers\n",
    "\n",
    "# Create Django project\n",
    "django-admin startproject budget_tracker\n",
    "cd budget_tracker\n",
    "python manage.py startapp transactions"
   ]
  },
  {
   "cell_type": "code",
   "execution_count": null,
   "metadata": {
    "vscode": {
     "languageId": "plaintext"
    }
   },
   "outputs": [],
   "source": [
    "#update settings.py in project:\n",
    "\n",
    "# budget_tracker/settings.py\n",
    "INSTALLED_APPS = [\n",
    "    'django.contrib.admin',\n",
    "    'django.contrib.auth',\n",
    "    'django.contrib.contenttypes',\n",
    "    'django.contrib.sessions',\n",
    "    'django.contrib.messages',\n",
    "    'django.contrib.staticfiles',\n",
    "    'rest_framework',\n",
    "    'rest_framework.authtoken',  # For token authentication\n",
    "    'corsheaders',               # For frontend-backend communication\n",
    "    'transactions',              # Our custom app\n",
    "]\n",
    "\n",
    "MIDDLEWARE = [\n",
    "    'corsheaders.middleware.CorsMiddleware',  # Add this\n",
    "    'django.middleware.common.CommonMiddleware',\n",
    "    'django.middleware.security.SecurityMiddleware',\n",
    "    'django.contrib.sessions.middleware.SessionMiddleware',\n",
    "    'django.middleware.csrf.CsrfViewMiddleware',\n",
    "    'django.contrib.auth.middleware.AuthenticationMiddleware',\n",
    "    'django.contrib.messages.middleware.MessageMiddleware',\n",
    "    'django.middleware.clickjacking.XFrameOptionsMiddleware',\n",
    "]\n",
    "\n",
    "# CORS settings\n",
    "CORS_ALLOWED_ORIGINS = [\n",
    "    \"http://localhost:5173\",  # Vite default port\n",
    "    # Add your hosted frontend URL later\n",
    "]\n",
    "\n",
    "REST_FRAMEWORK = {\n",
    "    'DEFAULT_AUTHENTICATION_CLASSES': [\n",
    "        'rest_framework.authentication.TokenAuthentication',\n",
    "    ],\n",
    "    'DEFAULT_PERMISSION_CLASSES': [\n",
    "        'rest_framework.permissions.IsAuthenticated',\n",
    "    ],\n",
    "    'DEFAULT_PAGINATION_CLASS': 'rest_framework.pagination.PageNumberPagination',\n",
    "    'PAGE_SIZE': 10  # For transaction list pagination\n",
    "}\n",
    "\n",
    "DATABASES = {\n",
    "    'default': {\n",
    "        'ENGINE': 'django.db.backends.sqlite3',\n",
    "        'NAME': BASE_DIR / \"db.sqlite3\",\n",
    "    }\n",
    "}"
   ]
  },
  {
   "cell_type": "code",
   "execution_count": null,
   "metadata": {
    "vscode": {
     "languageId": "plaintext"
    }
   },
   "outputs": [],
   "source": [
    "#update the code logic step by step\n",
    "\n",
    "#transactions/models.py\n",
    "\n",
    "#transactions/serializers.py\n",
    "\n",
    "#transactions/views.py\n",
    "\n",
    "#budget_tracker/urls.py"
   ]
  },
  {
   "cell_type": "code",
   "execution_count": null,
   "metadata": {
    "vscode": {
     "languageId": "plaintext"
    }
   },
   "outputs": [],
   "source": [
    "python manage.py makemigrations\n",
    "python manage.py migrate\n",
    "python manage.py createsuperuser  # Create a test user (e.g., username: test, password: test123)\n",
    "python manage.py runserver"
   ]
  },
  {
   "cell_type": "markdown",
   "metadata": {},
   "source": [
    "# frontned"
   ]
  },
  {
   "cell_type": "code",
   "execution_count": null,
   "metadata": {
    "vscode": {
     "languageId": "plaintext"
    }
   },
   "outputs": [],
   "source": [
    "# Install Vite with React\n",
    "npm create vite@latest frontend -- --template react\n",
    "cd frontend\n",
    "npm install\n",
    "npm install axios react-router-dom tailwindcss@3.4.17 postcss autoprefixer d3\n",
    "npx tailwindcss init -p"
   ]
  },
  {
   "cell_type": "code",
   "execution_count": null,
   "metadata": {
    "vscode": {
     "languageId": "plaintext"
    }
   },
   "outputs": [],
   "source": [
    "# configure tailwind css : tailwind.config.js\n",
    "\n",
    "/** @type {import('tailwindcss').Config} */\n",
    "export default {\n",
    "  content: [\"./index.html\", \"./src/**/*.{js,ts,jsx,tsx}\"],\n",
    "  theme: {\n",
    "    extend: {},\n",
    "  },\n",
    "  plugins: [],\n",
    "};"
   ]
  },
  {
   "cell_type": "code",
   "execution_count": null,
   "metadata": {
    "vscode": {
     "languageId": "plaintext"
    }
   },
   "outputs": [],
   "source": [
    "#update:\n",
    "\n",
    "@tailwind base;\n",
    "@tailwind components;\n",
    "@tailwind utilities;"
   ]
  },
  {
   "cell_type": "code",
   "execution_count": null,
   "metadata": {
    "vscode": {
     "languageId": "plaintext"
    }
   },
   "outputs": [],
   "source": [
    "#updated step by step\n",
    "\n",
    "#app.jsx\n",
    "\n",
    "#login.jsx\n",
    "\n",
    "#dashboard.jsx\n",
    "\n",
    "#transactionform.jsx\n",
    "\n",
    "#transactionlist.jsx\n",
    "\n",
    "#budgetmanager.jsx\n",
    "\n",
    "#chart.jsx\n",
    "\n",
    "#errorboundary.jsx\n",
    "\n",
    "#app.jsx"
   ]
  }
 ],
 "metadata": {
  "language_info": {
   "name": "python"
  }
 },
 "nbformat": 4,
 "nbformat_minor": 2
}
